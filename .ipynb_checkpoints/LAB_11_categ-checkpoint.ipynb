{
 "cells": [
  {
   "cell_type": "code",
   "execution_count": 84,
   "id": "e099dd25",
   "metadata": {},
   "outputs": [],
   "source": [
    "import pandas as pd \n",
    "import numpy as np"
   ]
  },
  {
   "cell_type": "code",
   "execution_count": 85,
   "id": "a0c96116",
   "metadata": {},
   "outputs": [],
   "source": [
    "customer_df = pd.read_csv(\"/Users/giacomorossini/Desktop/IRONHACK/Laboratory/LAB11.2/lab-cleaning-categorical-data/files_for_lab/we_fn_use_c_marketing_customer_value_analysis.csv\")"
   ]
  },
  {
   "cell_type": "code",
   "execution_count": 86,
   "id": "df379e49",
   "metadata": {},
   "outputs": [],
   "source": [
    "def transformation (df):\n",
    "    cols=[]\n",
    "    for i in range(len(df.columns)):\n",
    "        cols.append(df.columns[i].lower().replace(' ','_'))\n",
    "    df.columns=cols\n",
    "    \n",
    "transformation(customer_df)"
   ]
  },
  {
   "cell_type": "code",
   "execution_count": 87,
   "id": "97706d27",
   "metadata": {
    "scrolled": true
   },
   "outputs": [
    {
     "data": {
      "text/plain": [
       "Index(['customer', 'state', 'response', 'coverage', 'education',\n",
       "       'effective_to_date', 'employmentstatus', 'gender', 'location_code',\n",
       "       'marital_status', 'policy_type', 'policy', 'renew_offer_type',\n",
       "       'sales_channel', 'vehicle_class', 'vehicle_size'],\n",
       "      dtype='object')"
      ]
     },
     "execution_count": 87,
     "metadata": {},
     "output_type": "execute_result"
    }
   ],
   "source": [
    "#getting categorical data\n",
    "\n",
    "categorical_df = customer_df.select_dtypes(exclude = np.number)\n",
    "categorical_df.columns"
   ]
  },
  {
   "cell_type": "code",
   "execution_count": 89,
   "id": "92fbdf93",
   "metadata": {},
   "outputs": [
    {
     "data": {
      "text/plain": [
       "customer             0\n",
       "state                0\n",
       "response             0\n",
       "coverage             0\n",
       "education            0\n",
       "effective_to_date    0\n",
       "employmentstatus     0\n",
       "gender               0\n",
       "location_code        0\n",
       "marital_status       0\n",
       "policy_type          0\n",
       "policy               0\n",
       "renew_offer_type     0\n",
       "sales_channel        0\n",
       "vehicle_class        0\n",
       "vehicle_size         0\n",
       "dtype: int64"
      ]
     },
     "execution_count": 89,
     "metadata": {},
     "output_type": "execute_result"
    }
   ],
   "source": [
    "# 3. Check for NaN values and decide what to do with them, do it now.\n",
    "categorical_df.isnull().sum()"
   ]
  },
  {
   "cell_type": "code",
   "execution_count": 90,
   "id": "fe02d39a",
   "metadata": {
    "scrolled": false
   },
   "outputs": [
    {
     "name": "stdout",
     "output_type": "stream",
     "text": [
      "customer : 9134\n",
      "state : 5\n",
      "response : 2\n",
      "coverage : 3\n",
      "education : 5\n",
      "effective_to_date : 59\n",
      "employmentstatus : 5\n",
      "gender : 2\n",
      "location_code : 3\n",
      "marital_status : 3\n",
      "policy_type : 3\n",
      "policy : 9\n",
      "renew_offer_type : 4\n",
      "sales_channel : 4\n",
      "vehicle_class : 6\n",
      "vehicle_size : 3\n"
     ]
    }
   ],
   "source": [
    "#4. Check all unique values of columns.\n",
    "\n",
    "for column in categorical_df.columns:\n",
    "    unique = len(set(categorical_df[column])) #go to the column list, set return unique values and the store the length\n",
    "    print(column,':',unique)"
   ]
  },
  {
   "cell_type": "code",
   "execution_count": 91,
   "id": "18994b39",
   "metadata": {},
   "outputs": [
    {
     "data": {
      "text/plain": [
       "customer             object\n",
       "state                object\n",
       "response             object\n",
       "coverage             object\n",
       "education            object\n",
       "effective_to_date    object\n",
       "employmentstatus     object\n",
       "gender               object\n",
       "location_code        object\n",
       "marital_status       object\n",
       "policy_type          object\n",
       "policy               object\n",
       "renew_offer_type     object\n",
       "sales_channel        object\n",
       "vehicle_class        object\n",
       "vehicle_size         object\n",
       "dtype: object"
      ]
     },
     "execution_count": 91,
     "metadata": {},
     "output_type": "execute_result"
    }
   ],
   "source": [
    "# 5. Check dtypes. Do they all make sense as categorical data?\n",
    "#Categorical data often includes values and observations that can be categorized or grouped. \n",
    "#Effective_date should be time_frame value \n",
    "categorical_df.dtypes"
   ]
  },
  {
   "cell_type": "code",
   "execution_count": 95,
   "id": "60985f0c",
   "metadata": {},
   "outputs": [],
   "source": [
    "# 6. Does any column contain alpha and numeric data?  Decide how to clean it and do it now.\n",
    "#customer + policy and renew_offer_type. the second and third could give us info regarding preference or prevision \n",
    "#while the first is to granulate to give use some sort of valuable point\n",
    "#dropped policy_type --> cloned policy\n",
    "categorical_df = categorical_df.drop(['customer','policy_type'], axis = 1)"
   ]
  },
  {
   "cell_type": "code",
   "execution_count": 96,
   "id": "e73604d6",
   "metadata": {},
   "outputs": [],
   "source": [
    "#column wrangled --> integer to drop from obj df\n",
    "categorical_df['renew_offer_type']= np.where(categorical_df['renew_offer_type']=='Offer1', 1, np.where(categorical_df['renew_offer_type']=='Offer2',2,np.where(categorical_df['renew_offer_type']=='Offer3',3,4)))\n",
    "categorical_df['effective_to_date']= pd.to_datetime(categorical_df['effective_to_date'])"
   ]
  },
  {
   "cell_type": "code",
   "execution_count": 104,
   "id": "9e3a2493",
   "metadata": {
    "scrolled": true
   },
   "outputs": [],
   "source": [
    "categorical_df_wrangled = categorical_df.select_dtypes(include = object)"
   ]
  },
  {
   "cell_type": "code",
   "execution_count": null,
   "id": "55cbf76f",
   "metadata": {},
   "outputs": [],
   "source": [
    "#7. Would you choose to do anything else to clean or wrangle the categorical data? \n",
    "#Comment your decisions and do it now.\n",
    "# info is cleaned after 6."
   ]
  },
  {
   "cell_type": "code",
   "execution_count": 83,
   "id": "5750bd6d",
   "metadata": {},
   "outputs": [],
   "source": [
    "#8. Compare policy_type and policy.  What information is contained in these columns. \n",
    "#Can you identify what is important?\n",
    "#policy has more granularity and can give more info that's why i dropped before policy_type"
   ]
  },
  {
   "cell_type": "code",
   "execution_count": 98,
   "id": "d97178a9",
   "metadata": {},
   "outputs": [
    {
     "name": "stdout",
     "output_type": "stream",
     "text": [
      "state unique values: ['Washington' 'Arizona' 'Nevada' 'California' 'Oregon']\n",
      "response unique values: ['No' 'Yes']\n",
      "coverage unique values: ['Basic' 'Extended' 'Premium']\n",
      "education unique values: ['Bachelor' 'College' 'Master' 'High School or Below' 'Doctor']\n",
      "employmentstatus unique values: ['Employed' 'Unemployed' 'Medical Leave' 'Disabled' 'Retired']\n",
      "gender unique values: ['F' 'M']\n",
      "location_code unique values: ['Suburban' 'Rural' 'Urban']\n",
      "marital_status unique values: ['Married' 'Single' 'Divorced']\n",
      "policy unique values: ['Corporate L3' 'Personal L3' 'Corporate L2' 'Personal L1' 'Special L2'\n",
      " 'Corporate L1' 'Personal L2' 'Special L1' 'Special L3']\n",
      "sales_channel unique values: ['Agent' 'Call Center' 'Web' 'Branch']\n",
      "vehicle_class unique values: ['Two-Door Car' 'Four-Door Car' 'SUV' 'Luxury SUV' 'Sports Car'\n",
      " 'Luxury Car']\n",
      "vehicle_size unique values: ['Medsize' 'Small' 'Large']\n"
     ]
    }
   ],
   "source": [
    "# 9) Check number of unique values in each column.\n",
    "count = 0\n",
    "for column in categorical_df_wrangled.columns.values:\n",
    "    print(categorical_df_wrangled.columns.values[count], \"unique values:\", categorical_df_wrangled.iloc[:,count].unique())\n",
    "    count += 1"
   ]
  },
  {
   "cell_type": "code",
   "execution_count": 101,
   "id": "69f498c4",
   "metadata": {},
   "outputs": [
    {
     "name": "stdout",
     "output_type": "stream",
     "text": [
      "state : 5\n",
      "response : 2\n",
      "coverage : 3\n",
      "education : 5\n",
      "employmentstatus : 5\n",
      "gender : 2\n",
      "location_code : 3\n",
      "marital_status : 3\n",
      "policy : 9\n",
      "sales_channel : 4\n",
      "vehicle_class : 6\n",
      "vehicle_size : 3\n"
     ]
    }
   ],
   "source": [
    "for column in categorical_df_wrangled.columns:\n",
    "    unique = len(set(categorical_df_wrangled[column]))\n",
    "    print(column,':',unique)\n",
    "#possible to one-hot_encoding"
   ]
  },
  {
   "cell_type": "code",
   "execution_count": 100,
   "id": "6f744d14",
   "metadata": {},
   "outputs": [],
   "source": [
    "# 10. Save the cleaned catagorical dataframe as categorical.csv\n",
    "categorical_df_wrangled.to_csv(\"/Users/giacomorossini/Desktop/IRONHACK/Laboratory/LAB11.2/lab-cleaning-categorical-data/categorical_df_wrangled.csv\")"
   ]
  }
 ],
 "metadata": {
  "kernelspec": {
   "display_name": "Python 3 (ipykernel)",
   "language": "python",
   "name": "python3"
  },
  "language_info": {
   "codemirror_mode": {
    "name": "ipython",
    "version": 3
   },
   "file_extension": ".py",
   "mimetype": "text/x-python",
   "name": "python",
   "nbconvert_exporter": "python",
   "pygments_lexer": "ipython3",
   "version": "3.11.5"
  }
 },
 "nbformat": 4,
 "nbformat_minor": 5
}
