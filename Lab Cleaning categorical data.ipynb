{
 "cells": [
  {
   "cell_type": "code",
   "execution_count": null,
   "id": "ffdee8bb-04dc-4138-bb01-a274e0469757",
   "metadata": {},
   "outputs": [],
   "source": [
    "import pandas as pd\n",
    "import numpy as np\n",
    "import warnings\n",
    "warnings.filterwarnings('ignore')\n",
    "import matplotlib.pyplot as plt\n",
    "%matplotlib inline\n",
    "import seaborn as sns\n",
    "from sklearn import linear_model\n",
    "from sklearn.metrics import mean_squared_error, r2_score\n",
    "import statsmodels.api as sm\n",
    "from statsmodels.formula.api import ols"
   ]
  },
  {
   "cell_type": "code",
   "execution_count": null,
   "id": "3ac99091-4ad9-472b-a832-98bae5d9630a",
   "metadata": {},
   "outputs": [],
   "source": [
    "#1.Import the necessary libraries load the data and start a new notebook. \n",
    "#Using the same data as the previous lab: we_fn_use_c_marketing_customer_value_analysis.csv"
   ]
  },
  {
   "cell_type": "code",
   "execution_count": null,
   "id": "714006f4-140a-4309-96de-a7521be1cfb3",
   "metadata": {},
   "outputs": [],
   "source": [
    "df = pd.read_excel(r'C:\\Users\\Anderson\\Desktop\\we_fn_use_c_marketing_customer_value_analysis.xlsx')\n",
    "df"
   ]
  },
  {
   "cell_type": "code",
   "execution_count": null,
   "id": "d2e408f7-04c4-445f-8127-2c38dd6e2550",
   "metadata": {},
   "outputs": [],
   "source": [
    "#2.Find all of the categorical data. Save it in a categorical_df variable."
   ]
  },
  {
   "cell_type": "code",
   "execution_count": null,
   "id": "7b13a859-7148-4016-8b90-62ba37d0af83",
   "metadata": {},
   "outputs": [],
   "source": [
    "categorical_df = df.select_dtypes(include='object')\n",
    "categorical_df"
   ]
  },
  {
   "cell_type": "code",
   "execution_count": null,
   "id": "ae642e29-47a3-40cc-87da-8dbdd575d6bc",
   "metadata": {},
   "outputs": [],
   "source": [
    "#3.Check for NaN values and decide what to do with them, do it now."
   ]
  },
  {
   "cell_type": "code",
   "execution_count": null,
   "id": "ca1a1f6f-31d9-4fb3-8545-ae3e000dbb6b",
   "metadata": {},
   "outputs": [],
   "source": [
    "categorical_df.isnull().sum()"
   ]
  },
  {
   "cell_type": "code",
   "execution_count": null,
   "id": "b152ca9e-26bf-4cfe-8adf-8463ed1790cf",
   "metadata": {},
   "outputs": [],
   "source": [
    "#4.Check all unique values of columns."
   ]
  },
  {
   "cell_type": "code",
   "execution_count": null,
   "id": "bc1a4964-1bca-45ef-8a4b-34d0588b03b2",
   "metadata": {},
   "outputs": [],
   "source": [
    "for col in categorical_df:\n",
    "    print(categorical_df[col].unique())"
   ]
  },
  {
   "cell_type": "code",
   "execution_count": null,
   "id": "ec34a188-ef92-4f3c-b5d6-157b347cd300",
   "metadata": {},
   "outputs": [],
   "source": [
    "#5.Check dtypes. Do they all make sense as categorical data?"
   ]
  },
  {
   "cell_type": "code",
   "execution_count": null,
   "id": "171d7759-196e-4ae2-8915-82a7f65a8532",
   "metadata": {},
   "outputs": [],
   "source": [
    "categorical_df.dtypes"
   ]
  },
  {
   "cell_type": "code",
   "execution_count": null,
   "id": "20a793a1-590a-4d81-9f31-4865bc43e76b",
   "metadata": {},
   "outputs": [],
   "source": [
    "#6.Does any column contain alpha and numeric data? Decide how to clean it and do it now."
   ]
  },
  {
   "cell_type": "code",
   "execution_count": null,
   "id": "8e733d19-fd11-44b9-8bba-acaf21a6359c",
   "metadata": {},
   "outputs": [],
   "source": [
    "def alpha_and_numeric(categorical_df):\n",
    "    for column in categorical_df.columns:\n",
    "        for value in categorical_df[column]:\n",
    "            if isinstance(value, str):\n",
    "                if any(char.isalpha() for char in value) and any(char.isdigit() for char in value):\n",
    "                    return column  \n",
    "    return 'There are none'\n",
    "\n",
    "result = alpha_and_numeric(categorical_df)\n",
    "print(\"Contains alpha and numeric data:\", result)"
   ]
  },
  {
   "cell_type": "code",
   "execution_count": null,
   "id": "8694efbe-bfcd-435c-b8da-6d30d5e1bfdf",
   "metadata": {},
   "outputs": [],
   "source": [
    "#gonna keep it"
   ]
  },
  {
   "cell_type": "code",
   "execution_count": null,
   "id": "a9f6cde2-94b8-4987-9931-0e55560a8484",
   "metadata": {},
   "outputs": [],
   "source": [
    "#7.Would you choose to do anything else to clean or wrangle the categorical data? Comment your decisions and do it now.\n",
    "\n",
    "#i think its okay like this"
   ]
  },
  {
   "cell_type": "code",
   "execution_count": null,
   "id": "c3f0c4bb-3d86-4587-83ea-421ad8495c5d",
   "metadata": {},
   "outputs": [],
   "source": [
    "#8.Compare policy_type and policy. What information is contained in these columns. Can you identify what is important?\n",
    "#contains the type and subtype of policy, both of them are important, just depends what we are looking for in our analisys "
   ]
  },
  {
   "cell_type": "code",
   "execution_count": null,
   "id": "1289209f-f1f2-461b-b40c-65df4ba8b34d",
   "metadata": {},
   "outputs": [],
   "source": [
    "categorical_df"
   ]
  },
  {
   "cell_type": "code",
   "execution_count": null,
   "id": "0d629622-17d4-4863-9c9e-2e284e5376c6",
   "metadata": {},
   "outputs": [],
   "source": [
    "#Check number of unique values in each column, can they be combined in any way to ease encoding? Comment your thoughts and make those changes."
   ]
  },
  {
   "cell_type": "code",
   "execution_count": null,
   "id": "f40dd63d-b5b0-4cdf-a63a-d6151afbdc45",
   "metadata": {},
   "outputs": [],
   "source": [
    "categorical_df.describe(include='all').transpose()\n",
    "#imo i think they are okay how they are now"
   ]
  },
  {
   "cell_type": "code",
   "execution_count": null,
   "id": "3ab25ed8-af04-4682-8d83-84c5b39b08e1",
   "metadata": {},
   "outputs": [],
   "source": [
    "#9.Save the cleaned catagorical dataframe as categorical.csv You will use this file again this week."
   ]
  },
  {
   "cell_type": "code",
   "execution_count": null,
   "id": "ae1a4b50-d95a-410c-92a9-c2d99dcd885e",
   "metadata": {},
   "outputs": [],
   "source": [
    "categorical_df.to_csv(\"categorical.csv\", index=False)"
   ]
  },
  {
   "cell_type": "code",
   "execution_count": null,
   "id": "4473c3b1-5f7a-4812-b19c-33ae24923cc0",
   "metadata": {},
   "outputs": [],
   "source": []
  },
  {
   "cell_type": "code",
   "execution_count": null,
   "id": "2a9f2936-4ac1-46d9-95fe-2e2fd9633d3f",
   "metadata": {},
   "outputs": [],
   "source": []
  }
 ],
 "metadata": {
  "kernelspec": {
   "display_name": "Python 3 (ipykernel)",
   "language": "python",
   "name": "python3"
  },
  "language_info": {
   "codemirror_mode": {
    "name": "ipython",
    "version": 3
   },
   "file_extension": ".py",
   "mimetype": "text/x-python",
   "name": "python",
   "nbconvert_exporter": "python",
   "pygments_lexer": "ipython3",
   "version": "3.11.7"
  }
 },
 "nbformat": 4,
 "nbformat_minor": 5
}
