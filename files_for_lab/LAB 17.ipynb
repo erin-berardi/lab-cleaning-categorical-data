{
 "cells": [
  {
   "cell_type": "code",
   "execution_count": 1,
   "id": "8aedf819-2e74-4536-94ac-9cfed36f5757",
   "metadata": {},
   "outputs": [],
   "source": [
    "#Lab | Cleaning categorical data"
   ]
  },
  {
   "cell_type": "code",
   "execution_count": 2,
   "id": "064bcd31-99f7-4099-ad42-9f344680c351",
   "metadata": {},
   "outputs": [],
   "source": [
    "#1. Import the necessary libraries load the data and start a new notebook. Using the same data as the previous lab: we_fn_use_c_marketing_customer_value_analysis.csv\n",
    "import pandas as pd\n",
    "import numpy as np\n",
    "import matplotlib.pyplot as plt\n",
    "import seaborn as sns"
   ]
  },
  {
   "cell_type": "code",
   "execution_count": 3,
   "id": "a4329c52-63b7-469c-84af-bcdd885f2abb",
   "metadata": {},
   "outputs": [
    {
     "data": {
      "text/html": [
       "<div>\n",
       "<style scoped>\n",
       "    .dataframe tbody tr th:only-of-type {\n",
       "        vertical-align: middle;\n",
       "    }\n",
       "\n",
       "    .dataframe tbody tr th {\n",
       "        vertical-align: top;\n",
       "    }\n",
       "\n",
       "    .dataframe thead th {\n",
       "        text-align: right;\n",
       "    }\n",
       "</style>\n",
       "<table border=\"1\" class=\"dataframe\">\n",
       "  <thead>\n",
       "    <tr style=\"text-align: right;\">\n",
       "      <th></th>\n",
       "      <th>State</th>\n",
       "      <th>Customer Lifetime Value</th>\n",
       "      <th>Response</th>\n",
       "      <th>Coverage</th>\n",
       "      <th>Education</th>\n",
       "      <th>Effective To Date</th>\n",
       "      <th>EmploymentStatus</th>\n",
       "      <th>Gender</th>\n",
       "      <th>Income</th>\n",
       "      <th>Location Code</th>\n",
       "      <th>...</th>\n",
       "      <th>Months Since Policy Inception</th>\n",
       "      <th>Number of Open Complaints</th>\n",
       "      <th>Number of Policies</th>\n",
       "      <th>Policy Type</th>\n",
       "      <th>Policy</th>\n",
       "      <th>Renew Offer Type</th>\n",
       "      <th>Sales Channel</th>\n",
       "      <th>Total Claim Amount</th>\n",
       "      <th>Vehicle Class</th>\n",
       "      <th>Vehicle Size</th>\n",
       "    </tr>\n",
       "    <tr>\n",
       "      <th>Customer</th>\n",
       "      <th></th>\n",
       "      <th></th>\n",
       "      <th></th>\n",
       "      <th></th>\n",
       "      <th></th>\n",
       "      <th></th>\n",
       "      <th></th>\n",
       "      <th></th>\n",
       "      <th></th>\n",
       "      <th></th>\n",
       "      <th></th>\n",
       "      <th></th>\n",
       "      <th></th>\n",
       "      <th></th>\n",
       "      <th></th>\n",
       "      <th></th>\n",
       "      <th></th>\n",
       "      <th></th>\n",
       "      <th></th>\n",
       "      <th></th>\n",
       "      <th></th>\n",
       "    </tr>\n",
       "  </thead>\n",
       "  <tbody>\n",
       "    <tr>\n",
       "      <th>BU79786</th>\n",
       "      <td>Washington</td>\n",
       "      <td>2763.519279</td>\n",
       "      <td>No</td>\n",
       "      <td>Basic</td>\n",
       "      <td>Bachelor</td>\n",
       "      <td>2/24/11</td>\n",
       "      <td>Employed</td>\n",
       "      <td>F</td>\n",
       "      <td>56274</td>\n",
       "      <td>Suburban</td>\n",
       "      <td>...</td>\n",
       "      <td>5</td>\n",
       "      <td>0</td>\n",
       "      <td>1</td>\n",
       "      <td>Corporate Auto</td>\n",
       "      <td>Corporate L3</td>\n",
       "      <td>Offer1</td>\n",
       "      <td>Agent</td>\n",
       "      <td>384.811147</td>\n",
       "      <td>Two-Door Car</td>\n",
       "      <td>Medsize</td>\n",
       "    </tr>\n",
       "  </tbody>\n",
       "</table>\n",
       "<p>1 rows × 23 columns</p>\n",
       "</div>"
      ],
      "text/plain": [
       "               State  Customer Lifetime Value Response Coverage Education  \\\n",
       "Customer                                                                    \n",
       "BU79786   Washington              2763.519279       No    Basic  Bachelor   \n",
       "\n",
       "         Effective To Date EmploymentStatus Gender  Income Location Code  ...  \\\n",
       "Customer                                                                  ...   \n",
       "BU79786            2/24/11         Employed      F   56274      Suburban  ...   \n",
       "\n",
       "         Months Since Policy Inception  Number of Open Complaints  \\\n",
       "Customer                                                            \n",
       "BU79786                              5                          0   \n",
       "\n",
       "          Number of Policies     Policy Type        Policy  Renew Offer Type  \\\n",
       "Customer                                                                       \n",
       "BU79786                    1  Corporate Auto  Corporate L3            Offer1   \n",
       "\n",
       "         Sales Channel Total Claim Amount Vehicle Class Vehicle Size  \n",
       "Customer                                                              \n",
       "BU79786          Agent         384.811147  Two-Door Car      Medsize  \n",
       "\n",
       "[1 rows x 23 columns]"
      ]
     },
     "execution_count": 3,
     "metadata": {},
     "output_type": "execute_result"
    }
   ],
   "source": [
    "data =  pd.read_csv('we_fn_use_c_marketing_customer_value_analysis.csv',index_col=0)\n",
    "data.head(1)"
   ]
  },
  {
   "cell_type": "code",
   "execution_count": 4,
   "id": "2af2a51e-61eb-48b0-8700-dc6e25626647",
   "metadata": {},
   "outputs": [
    {
     "data": {
      "text/plain": [
       "Index(['state', 'customer_lifetime_value', 'response', 'coverage', 'education',\n",
       "       'effective_to_date', 'employmentstatus', 'gender', 'income',\n",
       "       'location_code', 'marital_status', 'monthly_premium_auto',\n",
       "       'months_since_last_claim', 'months_since_policy_inception',\n",
       "       'number_of_open_complaints', 'number_of_policies', 'policy_type',\n",
       "       'policy', 'renew_offer_type', 'sales_channel', 'total_claim_amount',\n",
       "       'vehicle_class', 'vehicle_size'],\n",
       "      dtype='object')"
      ]
     },
     "execution_count": 4,
     "metadata": {},
     "output_type": "execute_result"
    }
   ],
   "source": [
    "data.columns = data.columns.str.lower()\n",
    "data.columns = [col.replace(' ', '_') for col in data.columns]\n",
    "data.columns"
   ]
  },
  {
   "cell_type": "code",
   "execution_count": 5,
   "id": "84df188b-294f-47bd-9ee8-f481738a0139",
   "metadata": {},
   "outputs": [
    {
     "data": {
      "text/html": [
       "<div>\n",
       "<style scoped>\n",
       "    .dataframe tbody tr th:only-of-type {\n",
       "        vertical-align: middle;\n",
       "    }\n",
       "\n",
       "    .dataframe tbody tr th {\n",
       "        vertical-align: top;\n",
       "    }\n",
       "\n",
       "    .dataframe thead th {\n",
       "        text-align: right;\n",
       "    }\n",
       "</style>\n",
       "<table border=\"1\" class=\"dataframe\">\n",
       "  <thead>\n",
       "    <tr style=\"text-align: right;\">\n",
       "      <th></th>\n",
       "      <th>state</th>\n",
       "      <th>response</th>\n",
       "      <th>coverage</th>\n",
       "      <th>education</th>\n",
       "      <th>effective_to_date</th>\n",
       "      <th>employmentstatus</th>\n",
       "      <th>gender</th>\n",
       "      <th>location_code</th>\n",
       "      <th>marital_status</th>\n",
       "      <th>policy_type</th>\n",
       "      <th>policy</th>\n",
       "      <th>renew_offer_type</th>\n",
       "      <th>sales_channel</th>\n",
       "      <th>vehicle_class</th>\n",
       "      <th>vehicle_size</th>\n",
       "    </tr>\n",
       "    <tr>\n",
       "      <th>Customer</th>\n",
       "      <th></th>\n",
       "      <th></th>\n",
       "      <th></th>\n",
       "      <th></th>\n",
       "      <th></th>\n",
       "      <th></th>\n",
       "      <th></th>\n",
       "      <th></th>\n",
       "      <th></th>\n",
       "      <th></th>\n",
       "      <th></th>\n",
       "      <th></th>\n",
       "      <th></th>\n",
       "      <th></th>\n",
       "      <th></th>\n",
       "    </tr>\n",
       "  </thead>\n",
       "  <tbody>\n",
       "    <tr>\n",
       "      <th>BU79786</th>\n",
       "      <td>Washington</td>\n",
       "      <td>No</td>\n",
       "      <td>Basic</td>\n",
       "      <td>Bachelor</td>\n",
       "      <td>2/24/11</td>\n",
       "      <td>Employed</td>\n",
       "      <td>F</td>\n",
       "      <td>Suburban</td>\n",
       "      <td>Married</td>\n",
       "      <td>Corporate Auto</td>\n",
       "      <td>Corporate L3</td>\n",
       "      <td>Offer1</td>\n",
       "      <td>Agent</td>\n",
       "      <td>Two-Door Car</td>\n",
       "      <td>Medsize</td>\n",
       "    </tr>\n",
       "  </tbody>\n",
       "</table>\n",
       "</div>"
      ],
      "text/plain": [
       "               state response coverage education effective_to_date  \\\n",
       "Customer                                                             \n",
       "BU79786   Washington       No    Basic  Bachelor           2/24/11   \n",
       "\n",
       "         employmentstatus gender location_code marital_status     policy_type  \\\n",
       "Customer                                                                        \n",
       "BU79786          Employed      F      Suburban        Married  Corporate Auto   \n",
       "\n",
       "                policy renew_offer_type sales_channel vehicle_class  \\\n",
       "Customer                                                              \n",
       "BU79786   Corporate L3           Offer1         Agent  Two-Door Car   \n",
       "\n",
       "         vehicle_size  \n",
       "Customer               \n",
       "BU79786       Medsize  "
      ]
     },
     "execution_count": 5,
     "metadata": {},
     "output_type": "execute_result"
    }
   ],
   "source": [
    "#2. Find all of the categorical data. Save it in a categorical_df variable.\n",
    "categorical_df = data.select_dtypes(include=['object', 'bool'])\n",
    "categorical_df.head(1)"
   ]
  },
  {
   "cell_type": "code",
   "execution_count": 6,
   "id": "e1e4e837-765c-4847-8963-fc2f3255a4ed",
   "metadata": {},
   "outputs": [
    {
     "data": {
      "text/plain": [
       "state                0\n",
       "response             0\n",
       "coverage             0\n",
       "education            0\n",
       "effective_to_date    0\n",
       "employmentstatus     0\n",
       "gender               0\n",
       "location_code        0\n",
       "marital_status       0\n",
       "policy_type          0\n",
       "policy               0\n",
       "renew_offer_type     0\n",
       "sales_channel        0\n",
       "vehicle_class        0\n",
       "vehicle_size         0\n",
       "dtype: int64"
      ]
     },
     "execution_count": 6,
     "metadata": {},
     "output_type": "execute_result"
    }
   ],
   "source": [
    "#3. Check for NaN values and decide what to do with them, do it now.\n",
    "categorical_df.isna().sum()"
   ]
  },
  {
   "cell_type": "code",
   "execution_count": 7,
   "id": "947fd82f-92c4-4310-88ee-7b5464d10de9",
   "metadata": {},
   "outputs": [
    {
     "data": {
      "text/plain": [
       "state                 5\n",
       "response              2\n",
       "coverage              3\n",
       "education             5\n",
       "effective_to_date    59\n",
       "employmentstatus      5\n",
       "gender                2\n",
       "location_code         3\n",
       "marital_status        3\n",
       "policy_type           3\n",
       "policy                9\n",
       "renew_offer_type      4\n",
       "sales_channel         4\n",
       "vehicle_class         6\n",
       "vehicle_size          3\n",
       "dtype: int64"
      ]
     },
     "execution_count": 7,
     "metadata": {},
     "output_type": "execute_result"
    }
   ],
   "source": [
    "#4. Check all unique values of columns.\n",
    "unique_num = categorical_df.nunique()\n",
    "unique_num"
   ]
  },
  {
   "cell_type": "code",
   "execution_count": 8,
   "id": "26137a67-826b-49e3-bcf4-243fb641e9d9",
   "metadata": {},
   "outputs": [
    {
     "data": {
      "text/plain": [
       "state                object\n",
       "response             object\n",
       "coverage             object\n",
       "education            object\n",
       "effective_to_date    object\n",
       "employmentstatus     object\n",
       "gender               object\n",
       "location_code        object\n",
       "marital_status       object\n",
       "policy_type          object\n",
       "policy               object\n",
       "renew_offer_type     object\n",
       "sales_channel        object\n",
       "vehicle_class        object\n",
       "vehicle_size         object\n",
       "dtype: object"
      ]
     },
     "execution_count": 8,
     "metadata": {},
     "output_type": "execute_result"
    }
   ],
   "source": [
    "#5. Check dtypes. Do they all make sense as categorical data?\n",
    "categorical_df.dtypes\n"
   ]
  },
  {
   "cell_type": "code",
   "execution_count": 9,
   "id": "de5aa49b-75c8-47cc-adc8-8598c504a899",
   "metadata": {},
   "outputs": [
    {
     "data": {
      "text/html": [
       "<div>\n",
       "<style scoped>\n",
       "    .dataframe tbody tr th:only-of-type {\n",
       "        vertical-align: middle;\n",
       "    }\n",
       "\n",
       "    .dataframe tbody tr th {\n",
       "        vertical-align: top;\n",
       "    }\n",
       "\n",
       "    .dataframe thead th {\n",
       "        text-align: right;\n",
       "    }\n",
       "</style>\n",
       "<table border=\"1\" class=\"dataframe\">\n",
       "  <thead>\n",
       "    <tr style=\"text-align: right;\">\n",
       "      <th></th>\n",
       "      <th>state</th>\n",
       "      <th>customer_lifetime_value</th>\n",
       "      <th>response</th>\n",
       "      <th>coverage</th>\n",
       "      <th>education</th>\n",
       "      <th>effective_to_date</th>\n",
       "      <th>employmentstatus</th>\n",
       "      <th>gender</th>\n",
       "      <th>income</th>\n",
       "      <th>location_code</th>\n",
       "      <th>...</th>\n",
       "      <th>months_since_policy_inception</th>\n",
       "      <th>number_of_open_complaints</th>\n",
       "      <th>number_of_policies</th>\n",
       "      <th>policy_type</th>\n",
       "      <th>policy</th>\n",
       "      <th>renew_offer_type</th>\n",
       "      <th>sales_channel</th>\n",
       "      <th>total_claim_amount</th>\n",
       "      <th>vehicle_class</th>\n",
       "      <th>vehicle_size</th>\n",
       "    </tr>\n",
       "    <tr>\n",
       "      <th>Customer</th>\n",
       "      <th></th>\n",
       "      <th></th>\n",
       "      <th></th>\n",
       "      <th></th>\n",
       "      <th></th>\n",
       "      <th></th>\n",
       "      <th></th>\n",
       "      <th></th>\n",
       "      <th></th>\n",
       "      <th></th>\n",
       "      <th></th>\n",
       "      <th></th>\n",
       "      <th></th>\n",
       "      <th></th>\n",
       "      <th></th>\n",
       "      <th></th>\n",
       "      <th></th>\n",
       "      <th></th>\n",
       "      <th></th>\n",
       "      <th></th>\n",
       "      <th></th>\n",
       "    </tr>\n",
       "  </thead>\n",
       "  <tbody>\n",
       "    <tr>\n",
       "      <th>BU79786</th>\n",
       "      <td>Washington</td>\n",
       "      <td>2763.519279</td>\n",
       "      <td>No</td>\n",
       "      <td>Basic</td>\n",
       "      <td>Bachelor</td>\n",
       "      <td>2/24/11</td>\n",
       "      <td>Employed</td>\n",
       "      <td>F</td>\n",
       "      <td>56274</td>\n",
       "      <td>Suburban</td>\n",
       "      <td>...</td>\n",
       "      <td>5</td>\n",
       "      <td>0</td>\n",
       "      <td>1</td>\n",
       "      <td>Corporate Auto</td>\n",
       "      <td>Corporate L3</td>\n",
       "      <td>Offer1</td>\n",
       "      <td>Agent</td>\n",
       "      <td>384.811147</td>\n",
       "      <td>Two-Door Car</td>\n",
       "      <td>Medsize</td>\n",
       "    </tr>\n",
       "  </tbody>\n",
       "</table>\n",
       "<p>1 rows × 23 columns</p>\n",
       "</div>"
      ],
      "text/plain": [
       "               state  customer_lifetime_value response coverage education  \\\n",
       "Customer                                                                    \n",
       "BU79786   Washington              2763.519279       No    Basic  Bachelor   \n",
       "\n",
       "         effective_to_date employmentstatus gender  income location_code  ...  \\\n",
       "Customer                                                                  ...   \n",
       "BU79786            2/24/11         Employed      F   56274      Suburban  ...   \n",
       "\n",
       "         months_since_policy_inception  number_of_open_complaints  \\\n",
       "Customer                                                            \n",
       "BU79786                              5                          0   \n",
       "\n",
       "          number_of_policies     policy_type        policy  renew_offer_type  \\\n",
       "Customer                                                                       \n",
       "BU79786                    1  Corporate Auto  Corporate L3            Offer1   \n",
       "\n",
       "         sales_channel total_claim_amount vehicle_class vehicle_size  \n",
       "Customer                                                              \n",
       "BU79786          Agent         384.811147  Two-Door Car      Medsize  \n",
       "\n",
       "[1 rows x 23 columns]"
      ]
     },
     "execution_count": 9,
     "metadata": {},
     "output_type": "execute_result"
    }
   ],
   "source": [
    "#6. Does any column contain alpha and numeric data? Decide how to clean it and do it now.\n",
    "from datetime import datetime\n",
    "categorical_df['effective_to_date'] = categorical_df['effective_to_date'].apply(lambda x: datetime.strptime(x, '%m/%d/%y'))\n",
    "data.head(1)\n"
   ]
  },
  {
   "cell_type": "code",
   "execution_count": 10,
   "id": "c0c4ef19-9043-4bcd-a0b8-83d2093e8281",
   "metadata": {},
   "outputs": [
    {
     "data": {
      "text/plain": [
       "state                        object\n",
       "response                     object\n",
       "coverage                     object\n",
       "education                    object\n",
       "effective_to_date    datetime64[ns]\n",
       "employmentstatus             object\n",
       "gender                       object\n",
       "location_code                object\n",
       "marital_status               object\n",
       "policy_type                  object\n",
       "policy                       object\n",
       "renew_offer_type             object\n",
       "sales_channel                object\n",
       "vehicle_class                object\n",
       "vehicle_size                 object\n",
       "dtype: object"
      ]
     },
     "execution_count": 10,
     "metadata": {},
     "output_type": "execute_result"
    }
   ],
   "source": [
    "categorical_df.dtypes"
   ]
  },
  {
   "cell_type": "code",
   "execution_count": null,
   "id": "b526e37d-23f4-45bc-932d-d74e35d9717d",
   "metadata": {},
   "outputs": [],
   "source": [
    "#7. Would you choose to do anything else to clean or wrangle the categorical data? Comment your decisions and do it now.\n",
    "# I wouldn-t do anything more for now. There is no null values and teh number of unique values is low. "
   ]
  },
  {
   "cell_type": "code",
   "execution_count": 14,
   "id": "869de446-58e7-4d78-b43c-3ee10bf4d56d",
   "metadata": {},
   "outputs": [
    {
     "data": {
      "text/plain": [
       "Personal Auto     6788\n",
       "Corporate Auto    1968\n",
       "Special Auto       378\n",
       "Name: policy_type, dtype: int64"
      ]
     },
     "execution_count": 14,
     "metadata": {},
     "output_type": "execute_result"
    }
   ],
   "source": [
    "#8. Compare policy_type and policy. What information is contained in these columns. Can you identify what is important?\n",
    "#I can see that policy_type presents geeral categories and policy presents detailed categories.\n",
    "#In my opinion we can drop policy since it doesn't explain much more than policy_type \n",
    "\n",
    "categorical_df['policy_type'].value_counts()\n"
   ]
  },
  {
   "cell_type": "code",
   "execution_count": 15,
   "id": "435f2d69-6528-4996-958a-c1ba1116c356",
   "metadata": {},
   "outputs": [
    {
     "data": {
      "text/plain": [
       "Personal L3     3426\n",
       "Personal L2     2122\n",
       "Personal L1     1240\n",
       "Corporate L3    1014\n",
       "Corporate L2     595\n",
       "Corporate L1     359\n",
       "Special L2       164\n",
       "Special L3       148\n",
       "Special L1        66\n",
       "Name: policy, dtype: int64"
      ]
     },
     "execution_count": 15,
     "metadata": {},
     "output_type": "execute_result"
    }
   ],
   "source": [
    "categorical_df['policy'].value_counts()"
   ]
  },
  {
   "cell_type": "code",
   "execution_count": 16,
   "id": "bfea5056-bb44-4b08-8646-33f464c3f782",
   "metadata": {},
   "outputs": [],
   "source": [
    "categorical_df.drop(columns=['policy'],axis=1,inplace=True)"
   ]
  },
  {
   "cell_type": "code",
   "execution_count": 17,
   "id": "83c5ba8c-fc68-4609-9519-18a830eead8b",
   "metadata": {},
   "outputs": [
    {
     "data": {
      "text/plain": [
       "Index(['state', 'response', 'coverage', 'education', 'effective_to_date',\n",
       "       'employmentstatus', 'gender', 'location_code', 'marital_status',\n",
       "       'policy_type', 'renew_offer_type', 'sales_channel', 'vehicle_class',\n",
       "       'vehicle_size'],\n",
       "      dtype='object')"
      ]
     },
     "execution_count": 17,
     "metadata": {},
     "output_type": "execute_result"
    }
   ],
   "source": [
    "categorical_df.columns"
   ]
  },
  {
   "cell_type": "code",
   "execution_count": 18,
   "id": "003e0f48-52ca-4c05-85b5-75adb5822b03",
   "metadata": {},
   "outputs": [
    {
     "data": {
      "text/plain": [
       "2011-01-10    195\n",
       "2011-01-27    194\n",
       "2011-02-14    186\n",
       "2011-01-26    181\n",
       "2011-01-17    180\n",
       "2011-01-19    179\n",
       "2011-01-31    178\n",
       "2011-01-03    178\n",
       "2011-01-20    173\n",
       "2011-02-26    169\n",
       "2011-01-28    169\n",
       "2011-02-19    168\n",
       "2011-01-05    167\n",
       "2011-02-27    167\n",
       "2011-01-11    166\n",
       "2011-02-04    164\n",
       "2011-02-10    161\n",
       "2011-02-28    161\n",
       "2011-01-02    160\n",
       "2011-01-21    160\n",
       "2011-01-29    160\n",
       "2011-02-22    158\n",
       "2011-02-05    158\n",
       "2011-02-03    158\n",
       "2011-02-07    157\n",
       "2011-02-12    156\n",
       "2011-01-23    155\n",
       "2011-02-01    154\n",
       "2011-01-18    154\n",
       "2011-01-15    153\n",
       "2011-01-14    152\n",
       "2011-02-11    151\n",
       "2011-01-07    151\n",
       "2011-01-25    151\n",
       "2011-02-25    149\n",
       "2011-01-08    149\n",
       "2011-02-18    149\n",
       "2011-02-02    149\n",
       "2011-01-01    148\n",
       "2011-02-21    148\n",
       "2011-01-24    147\n",
       "2011-01-09    146\n",
       "2011-01-30    145\n",
       "2011-01-13    145\n",
       "2011-02-06    144\n",
       "2011-01-06    143\n",
       "2011-02-23    143\n",
       "2011-01-16    142\n",
       "2011-02-16    139\n",
       "2011-02-13    139\n",
       "2011-02-24    139\n",
       "2011-02-09    137\n",
       "2011-02-17    136\n",
       "2011-01-22    136\n",
       "2011-02-08    134\n",
       "2011-02-20    132\n",
       "2011-02-15    130\n",
       "2011-01-12    126\n",
       "2011-01-04    115\n",
       "Name: effective_to_date, dtype: int64"
      ]
     },
     "execution_count": 18,
     "metadata": {},
     "output_type": "execute_result"
    }
   ],
   "source": [
    "#9. Check number of unique values in each column, can they be combined in any way to ease encoding? Comment your thoughts and make those changes.\n",
    "categorical_df['effective_to_date'].value_counts()\n",
    "\n",
    "#I could modify effectve_to_date so it shows only the \n",
    "\n",
    "#10. Save the cleaned catagorical dataframe as categorical.csv You will use this file again this week.."
   ]
  },
  {
   "cell_type": "code",
   "execution_count": null,
   "id": "7b0850c2-658e-493e-a6ad-ea8f69d8e7c9",
   "metadata": {},
   "outputs": [],
   "source": []
  }
 ],
 "metadata": {
  "kernelspec": {
   "display_name": "Python 3 (ipykernel)",
   "language": "python",
   "name": "python3"
  },
  "language_info": {
   "codemirror_mode": {
    "name": "ipython",
    "version": 3
   },
   "file_extension": ".py",
   "mimetype": "text/x-python",
   "name": "python",
   "nbconvert_exporter": "python",
   "pygments_lexer": "ipython3",
   "version": "3.9.13"
  }
 },
 "nbformat": 4,
 "nbformat_minor": 5
}
