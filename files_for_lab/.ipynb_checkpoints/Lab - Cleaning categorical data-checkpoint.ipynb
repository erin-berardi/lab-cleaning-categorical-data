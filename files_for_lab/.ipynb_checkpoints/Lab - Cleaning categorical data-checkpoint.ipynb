{
 "cells": [
  {
   "cell_type": "code",
   "execution_count": 1,
   "id": "a23dffbe",
   "metadata": {},
   "outputs": [],
   "source": [
    "import pandas as pd\n",
    "import numpy as np\n",
    "import snakecase"
   ]
  },
  {
   "cell_type": "code",
   "execution_count": 2,
   "id": "a00e6357",
   "metadata": {},
   "outputs": [
    {
     "data": {
      "text/plain": [
       "Index(['customer', 'state', 'customer_lifetime_value', 'response', 'coverage',\n",
       "       'education', 'effective_to_date', 'employment_status', 'gender',\n",
       "       'income', 'location_code', 'marital_status', 'monthly_premium_auto',\n",
       "       'months_since_last_claim', 'months_since_policy_inception',\n",
       "       'number_of_open_complaints', 'number_of_policies', 'policy_type',\n",
       "       'policy', 'renew_offer_type', 'sales_channel', 'total_claim_amount',\n",
       "       'vehicle_class', 'vehicle_size'],\n",
       "      dtype='object')"
      ]
     },
     "execution_count": 2,
     "metadata": {},
     "output_type": "execute_result"
    }
   ],
   "source": [
    "# 1. Import the necessary libraries load the data and start a new notebook. Using the same data as the previous lab:\n",
    "# we_fn_use_c_marketing_customer_value_analysis.csv\n",
    "customer_df = pd.read_csv('we_fn_use_c_marketing_customer_value_analysis.csv')\n",
    "customer_df.columns = [snakecase.convert(col.replace(' ','_')).replace('__','_') for col in customer_df.columns]\n",
    "customer_df['effective_to_date'] = pd.to_datetime(customer_df['effective_to_date'],errors='coerce')\n",
    "customer_df.columns"
   ]
  },
  {
   "cell_type": "code",
   "execution_count": 3,
   "id": "94dc6586",
   "metadata": {},
   "outputs": [
    {
     "data": {
      "text/html": [
       "<div>\n",
       "<style scoped>\n",
       "    .dataframe tbody tr th:only-of-type {\n",
       "        vertical-align: middle;\n",
       "    }\n",
       "\n",
       "    .dataframe tbody tr th {\n",
       "        vertical-align: top;\n",
       "    }\n",
       "\n",
       "    .dataframe thead th {\n",
       "        text-align: right;\n",
       "    }\n",
       "</style>\n",
       "<table border=\"1\" class=\"dataframe\">\n",
       "  <thead>\n",
       "    <tr style=\"text-align: right;\">\n",
       "      <th></th>\n",
       "      <th>customer</th>\n",
       "      <th>state</th>\n",
       "      <th>response</th>\n",
       "      <th>coverage</th>\n",
       "      <th>education</th>\n",
       "      <th>employment_status</th>\n",
       "      <th>gender</th>\n",
       "      <th>location_code</th>\n",
       "      <th>marital_status</th>\n",
       "      <th>policy_type</th>\n",
       "      <th>policy</th>\n",
       "      <th>renew_offer_type</th>\n",
       "      <th>sales_channel</th>\n",
       "      <th>vehicle_class</th>\n",
       "      <th>vehicle_size</th>\n",
       "    </tr>\n",
       "  </thead>\n",
       "  <tbody>\n",
       "    <tr>\n",
       "      <th>0</th>\n",
       "      <td>BU79786</td>\n",
       "      <td>Washington</td>\n",
       "      <td>No</td>\n",
       "      <td>Basic</td>\n",
       "      <td>Bachelor</td>\n",
       "      <td>Employed</td>\n",
       "      <td>F</td>\n",
       "      <td>Suburban</td>\n",
       "      <td>Married</td>\n",
       "      <td>Corporate Auto</td>\n",
       "      <td>Corporate L3</td>\n",
       "      <td>Offer1</td>\n",
       "      <td>Agent</td>\n",
       "      <td>Two-Door Car</td>\n",
       "      <td>Medsize</td>\n",
       "    </tr>\n",
       "    <tr>\n",
       "      <th>1</th>\n",
       "      <td>QZ44356</td>\n",
       "      <td>Arizona</td>\n",
       "      <td>No</td>\n",
       "      <td>Extended</td>\n",
       "      <td>Bachelor</td>\n",
       "      <td>Unemployed</td>\n",
       "      <td>F</td>\n",
       "      <td>Suburban</td>\n",
       "      <td>Single</td>\n",
       "      <td>Personal Auto</td>\n",
       "      <td>Personal L3</td>\n",
       "      <td>Offer3</td>\n",
       "      <td>Agent</td>\n",
       "      <td>Four-Door Car</td>\n",
       "      <td>Medsize</td>\n",
       "    </tr>\n",
       "    <tr>\n",
       "      <th>2</th>\n",
       "      <td>AI49188</td>\n",
       "      <td>Nevada</td>\n",
       "      <td>No</td>\n",
       "      <td>Premium</td>\n",
       "      <td>Bachelor</td>\n",
       "      <td>Employed</td>\n",
       "      <td>F</td>\n",
       "      <td>Suburban</td>\n",
       "      <td>Married</td>\n",
       "      <td>Personal Auto</td>\n",
       "      <td>Personal L3</td>\n",
       "      <td>Offer1</td>\n",
       "      <td>Agent</td>\n",
       "      <td>Two-Door Car</td>\n",
       "      <td>Medsize</td>\n",
       "    </tr>\n",
       "    <tr>\n",
       "      <th>3</th>\n",
       "      <td>WW63253</td>\n",
       "      <td>California</td>\n",
       "      <td>No</td>\n",
       "      <td>Basic</td>\n",
       "      <td>Bachelor</td>\n",
       "      <td>Unemployed</td>\n",
       "      <td>M</td>\n",
       "      <td>Suburban</td>\n",
       "      <td>Married</td>\n",
       "      <td>Corporate Auto</td>\n",
       "      <td>Corporate L2</td>\n",
       "      <td>Offer1</td>\n",
       "      <td>Call Center</td>\n",
       "      <td>SUV</td>\n",
       "      <td>Medsize</td>\n",
       "    </tr>\n",
       "    <tr>\n",
       "      <th>4</th>\n",
       "      <td>HB64268</td>\n",
       "      <td>Washington</td>\n",
       "      <td>No</td>\n",
       "      <td>Basic</td>\n",
       "      <td>Bachelor</td>\n",
       "      <td>Employed</td>\n",
       "      <td>M</td>\n",
       "      <td>Rural</td>\n",
       "      <td>Single</td>\n",
       "      <td>Personal Auto</td>\n",
       "      <td>Personal L1</td>\n",
       "      <td>Offer1</td>\n",
       "      <td>Agent</td>\n",
       "      <td>Four-Door Car</td>\n",
       "      <td>Medsize</td>\n",
       "    </tr>\n",
       "  </tbody>\n",
       "</table>\n",
       "</div>"
      ],
      "text/plain": [
       "  customer       state response  coverage education employment_status gender  \\\n",
       "0  BU79786  Washington       No     Basic  Bachelor          Employed      F   \n",
       "1  QZ44356     Arizona       No  Extended  Bachelor        Unemployed      F   \n",
       "2  AI49188      Nevada       No   Premium  Bachelor          Employed      F   \n",
       "3  WW63253  California       No     Basic  Bachelor        Unemployed      M   \n",
       "4  HB64268  Washington       No     Basic  Bachelor          Employed      M   \n",
       "\n",
       "  location_code marital_status     policy_type        policy renew_offer_type  \\\n",
       "0      Suburban        Married  Corporate Auto  Corporate L3           Offer1   \n",
       "1      Suburban         Single   Personal Auto   Personal L3           Offer3   \n",
       "2      Suburban        Married   Personal Auto   Personal L3           Offer1   \n",
       "3      Suburban        Married  Corporate Auto  Corporate L2           Offer1   \n",
       "4         Rural         Single   Personal Auto   Personal L1           Offer1   \n",
       "\n",
       "  sales_channel  vehicle_class vehicle_size  \n",
       "0         Agent   Two-Door Car      Medsize  \n",
       "1         Agent  Four-Door Car      Medsize  \n",
       "2         Agent   Two-Door Car      Medsize  \n",
       "3   Call Center            SUV      Medsize  \n",
       "4         Agent  Four-Door Car      Medsize  "
      ]
     },
     "execution_count": 3,
     "metadata": {},
     "output_type": "execute_result"
    }
   ],
   "source": [
    "# 2. Find all of the categorical data. Save it in a categorical_df variable.\n",
    "categoricals = customer_df.select_dtypes(object)\n",
    "categoricals.head()"
   ]
  },
  {
   "cell_type": "code",
   "execution_count": 4,
   "id": "99be9efd",
   "metadata": {},
   "outputs": [
    {
     "data": {
      "text/plain": [
       "customer             0\n",
       "state                0\n",
       "response             0\n",
       "coverage             0\n",
       "education            0\n",
       "employment_status    0\n",
       "gender               0\n",
       "location_code        0\n",
       "marital_status       0\n",
       "policy_type          0\n",
       "policy               0\n",
       "renew_offer_type     0\n",
       "sales_channel        0\n",
       "vehicle_class        0\n",
       "vehicle_size         0\n",
       "dtype: int64"
      ]
     },
     "execution_count": 4,
     "metadata": {},
     "output_type": "execute_result"
    }
   ],
   "source": [
    "# 3. Check for NaN values and decide what to do with them, do it now.\n",
    "categoricals.isna().sum()"
   ]
  },
  {
   "cell_type": "code",
   "execution_count": 5,
   "id": "fda512df",
   "metadata": {},
   "outputs": [
    {
     "name": "stdout",
     "output_type": "stream",
     "text": [
      "customer :  ['BU79786' 'QZ44356' 'AI49188' ... 'TD14365' 'UP19263' 'Y167826']\n",
      "state :  ['Washington' 'Arizona' 'Nevada' 'California' 'Oregon']\n",
      "response :  ['No' 'Yes']\n",
      "coverage :  ['Basic' 'Extended' 'Premium']\n",
      "education :  ['Bachelor' 'College' 'Master' 'High School or Below' 'Doctor']\n",
      "employment_status :  ['Employed' 'Unemployed' 'Medical Leave' 'Disabled' 'Retired']\n",
      "gender :  ['F' 'M']\n",
      "location_code :  ['Suburban' 'Rural' 'Urban']\n",
      "marital_status :  ['Married' 'Single' 'Divorced']\n",
      "policy_type :  ['Corporate Auto' 'Personal Auto' 'Special Auto']\n",
      "policy :  ['Corporate L3' 'Personal L3' 'Corporate L2' 'Personal L1' 'Special L2'\n",
      " 'Corporate L1' 'Personal L2' 'Special L1' 'Special L3']\n",
      "renew_offer_type :  ['Offer1' 'Offer3' 'Offer2' 'Offer4']\n",
      "sales_channel :  ['Agent' 'Call Center' 'Web' 'Branch']\n",
      "vehicle_class :  ['Two-Door Car' 'Four-Door Car' 'SUV' 'Luxury SUV' 'Sports Car'\n",
      " 'Luxury Car']\n",
      "vehicle_size :  ['Medsize' 'Small' 'Large']\n"
     ]
    }
   ],
   "source": [
    "# 4. Check all unique values of columns.\n",
    "for col in categoricals.columns:\n",
    "    print(col, ': ',categoricals[col].unique())"
   ]
  },
  {
   "cell_type": "code",
   "execution_count": 6,
   "id": "e6db4a2f",
   "metadata": {},
   "outputs": [
    {
     "data": {
      "text/plain": [
       "customer             object\n",
       "state                object\n",
       "response             object\n",
       "coverage             object\n",
       "education            object\n",
       "employment_status    object\n",
       "gender               object\n",
       "location_code        object\n",
       "marital_status       object\n",
       "policy_type          object\n",
       "policy               object\n",
       "renew_offer_type     object\n",
       "sales_channel        object\n",
       "vehicle_class        object\n",
       "vehicle_size         object\n",
       "dtype: object"
      ]
     },
     "execution_count": 6,
     "metadata": {},
     "output_type": "execute_result"
    }
   ],
   "source": [
    "# 5. Check dtypes. Do they all make sense as categorical data?\n",
    "categoricals.dtypes"
   ]
  },
  {
   "cell_type": "code",
   "execution_count": 7,
   "id": "fcce006c",
   "metadata": {},
   "outputs": [],
   "source": [
    "# All data types make sense. The effecive_to_date makes sense as it is not numerical, hence must be object."
   ]
  },
  {
   "cell_type": "code",
   "execution_count": 8,
   "id": "0d3b4aa7",
   "metadata": {},
   "outputs": [
    {
     "data": {
      "text/plain": [
       "Offer1    3752\n",
       "Offer2    2926\n",
       "Offer3    1432\n",
       "Offer4    1024\n",
       "Name: renew_offer_type, dtype: int64"
      ]
     },
     "execution_count": 8,
     "metadata": {},
     "output_type": "execute_result"
    }
   ],
   "source": [
    "# 6. Does any column contain alpha and numeric data? Decide how to clean it and do it now.\n",
    "categoricals['renew_offer_type'].value_counts()"
   ]
  },
  {
   "cell_type": "code",
   "execution_count": 9,
   "id": "e1594cbd",
   "metadata": {},
   "outputs": [],
   "source": [
    "import re\n",
    "pattern = '\\d'\n",
    "categoricals['renew_offer_type'] = categoricals['renew_offer_type'].map(lambda x: re.findall(pattern,x)[0])"
   ]
  },
  {
   "cell_type": "code",
   "execution_count": 10,
   "id": "641b186a",
   "metadata": {},
   "outputs": [],
   "source": [
    "# 7. Would you choose to do anything else to clean or wrangle the categorical data? Comment your decisions and do it now."
   ]
  },
  {
   "cell_type": "code",
   "execution_count": 11,
   "id": "7b9b3120",
   "metadata": {},
   "outputs": [],
   "source": [
    "# Dropping two columns that seem irrelevant. Further adjustments will be made ahead.\n",
    "categoricals.drop(columns = ['customer','renew_offer_type'], axis=1, inplace=True)"
   ]
  },
  {
   "cell_type": "code",
   "execution_count": 12,
   "id": "cffbb9d3",
   "metadata": {},
   "outputs": [
    {
     "data": {
      "text/plain": [
       "Personal L3 Personal Auto      3426\n",
       "Personal L2 Personal Auto      2122\n",
       "Personal L1 Personal Auto      1240\n",
       "Corporate L3 Corporate Auto    1014\n",
       "Corporate L2 Corporate Auto     595\n",
       "Corporate L1 Corporate Auto     359\n",
       "Special L2 Special Auto         164\n",
       "Special L3 Special Auto         148\n",
       "Special L1 Special Auto          66\n",
       "dtype: int64"
      ]
     },
     "execution_count": 12,
     "metadata": {},
     "output_type": "execute_result"
    }
   ],
   "source": [
    "# 8. Compare policy_type and policy. What information is contained in these columns. Can you identify what is important?\n",
    "(categoricals['policy'] + ' ' + categoricals['policy_type']).value_counts()"
   ]
  },
  {
   "cell_type": "code",
   "execution_count": 13,
   "id": "ff6ffb9c",
   "metadata": {},
   "outputs": [
    {
     "data": {
      "text/plain": [
       "3    4588\n",
       "2    2881\n",
       "1    1665\n",
       "Name: policy, dtype: int64"
      ]
     },
     "execution_count": 13,
     "metadata": {},
     "output_type": "execute_result"
    }
   ],
   "source": [
    "pattern = '\\d'\n",
    "categoricals['policy'] = categoricals['policy'].map(lambda x: re.findall(pattern,x)[0])\n",
    "categoricals['policy'].value_counts()"
   ]
  },
  {
   "cell_type": "code",
   "execution_count": 14,
   "id": "c4b1176c",
   "metadata": {},
   "outputs": [
    {
     "data": {
      "text/plain": [
       "state                5\n",
       "response             2\n",
       "coverage             3\n",
       "education            5\n",
       "employment_status    5\n",
       "gender               2\n",
       "location_code        3\n",
       "marital_status       3\n",
       "policy_type          3\n",
       "policy               3\n",
       "sales_channel        4\n",
       "vehicle_class        6\n",
       "vehicle_size         3\n",
       "dtype: int64"
      ]
     },
     "execution_count": 14,
     "metadata": {},
     "output_type": "execute_result"
    }
   ],
   "source": [
    "# 9. Check number of unique values in each column, can they be combined in any way to ease encoding?\n",
    "# Comment your thoughts and make those changes.\n",
    "categoricals.nunique()"
   ]
  },
  {
   "cell_type": "code",
   "execution_count": 15,
   "id": "68084b50",
   "metadata": {},
   "outputs": [],
   "source": [
    "categoricals['response'].replace({'Yes':1,'No':0},inplace=True)\n",
    "categoricals['vehicle_size'].replace({'Small':1,'Medsize':2,'Large':3},inplace=True)\n",
    "categoricals['education'].replace({'High School or Below':1,'Bachelor':2,'College':2,'Master':3,'Doctor':4},inplace=True)\n",
    "categoricals['coverage'].replace({'Basic':1,'Extended':2,'Premium':3},inplace=True)\n",
    "categoricals['gender'].replace({'M':1,'F':0},inplace=True)"
   ]
  },
  {
   "cell_type": "code",
   "execution_count": 16,
   "id": "03da9aa6",
   "metadata": {},
   "outputs": [],
   "source": [
    "# 10. Save the cleaned catagorical dataframe as categorical.csv You will use this file again this week.\n",
    "categoricals.to_csv('categoricals_df.csv')"
   ]
  }
 ],
 "metadata": {
  "kernelspec": {
   "display_name": "Python 3 (ipykernel)",
   "language": "python",
   "name": "python3"
  },
  "language_info": {
   "codemirror_mode": {
    "name": "ipython",
    "version": 3
   },
   "file_extension": ".py",
   "mimetype": "text/x-python",
   "name": "python",
   "nbconvert_exporter": "python",
   "pygments_lexer": "ipython3",
   "version": "3.9.13"
  }
 },
 "nbformat": 4,
 "nbformat_minor": 5
}
